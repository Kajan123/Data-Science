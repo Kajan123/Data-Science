{
  "cells": [
    {
      "cell_type": "code",
      "execution_count": null,
      "metadata": {
        "id": "Nt3-9tEOGifJ"
      },
      "outputs": [],
      "source": [
        "# GOOGLE COLAB SETUP\n",
        "# from google.colab import drive\n",
        "# drive.mount('/content/drive')"
      ]
    },
    {
      "cell_type": "markdown",
      "metadata": {
        "id": "bllawCTaGnQa"
      },
      "source": [
        "This is the beginning of the notebook.\n",
        "\n",
        "ADM4142-A Fundamentals of Data science\n",
        "\n",
        "The goal of this notebook is to retrieve and stage the source datasets into the format used in the dimensional model for analysis.\n",
        "\n",
        "This notebook generates the Date_dimension of the weather/tourism/economy data frame.\n",
        "\n",
        "\n",
        "\n"
      ]
    },
    {
      "cell_type": "code",
      "execution_count": null,
      "metadata": {
        "id": "ZGwWI1MyHZwy"
      },
      "outputs": [],
      "source": [
        "# import statements\n",
        "import pandas as pd\n",
        "from datetime import datetime, timedelta"
      ]
    },
    {
      "cell_type": "code",
      "execution_count": null,
      "metadata": {
        "colab": {
          "base_uri": "https://localhost:8080/"
        },
        "id": "zst_EL_kHaLK",
        "outputId": "8879e967-e5b3-4c7e-8f9b-feb6d0b4b0ad"
      },
      "outputs": [],
      "source": [
        "# Placeholder for loading the dataset's date column\n",
        "# In practice, replace the following line with code to load the dataset\n",
        "# For example: dates_from_dataset = pd.read_csv(\"path_to_weather_dataset.csv\")[\"date\"]\n",
        "\n",
        "#url_ottawa = \"https://raw.githubusercontent.com/noobstang/NNtraining/master/Weather49Sets/weatherstats_ottawa_daily.csv\"\n",
        "url_ottawa = \"https://raw.githubusercontent.com/noobstang/cscsi4142-project-datasets/master/data/weatherstats_ottawa_daily.csv\"\n",
        "\n",
        "# Load and Preprocess Data\n",
        "url = url_ottawa\n",
        "data = pd.read_csv(url)[\"date\"]\n",
        "\n",
        "data.head(5)"
      ]
    },
    {
      "cell_type": "code",
      "execution_count": null,
      "metadata": {
        "colab": {
          "base_uri": "https://localhost:8080/",
          "height": 206
        },
        "id": "FciY9eeJJx0b",
        "outputId": "eb21e4bc-2238-436e-c3ab-38125083188e"
      },
      "outputs": [],
      "source": [
        "# Create the DataFrame with date_iso\n",
        "data = pd.to_datetime(data)\n",
        "filtered_data = data[(data.dt.year >= 1990) & (data.dt.year <= 2023)]\n",
        "\n",
        "df = pd.DataFrame(filtered_data, columns=['date'])\n",
        "df = df.rename(columns={'date': 'date_iso'})\n",
        "\n",
        "# Sort the DataFrame by the 'date_iso' column from oldest to newest\n",
        "df = df.sort_values(by='date_iso')\n",
        "\n",
        "# Set the 'Date_key' enumeration, starting from 1\n",
        "df['Date_key'] = range(1, len(df) + 1)\n",
        "\n",
        "# Reset the index if desired\n",
        "df = df.reset_index(drop=True)\n",
        "\n",
        "df.head()"
      ]
    },
    {
      "cell_type": "code",
      "execution_count": null,
      "metadata": {
        "id": "ahyQqzFIqqMm"
      },
      "outputs": [],
      "source": [
        "# Populate the DataFrame\n",
        "df['Date_key'] = df.index + 1\n",
        "df['date_iso'] = df['date_iso'].dt.strftime('%Y-%m-%d')\n",
        "df['date_yearmonth'] = df['date_iso'].str.slice(0, 7)\n",
        "df['year'] = df['date_iso'].str.slice(0, 4).astype(int)\n",
        "df['month'] = df['date_iso'].str.slice(5, 7).astype(int)\n",
        "df['day'] = df['date_iso'].str.slice(8, 10).astype(int)\n",
        "df['day_of_week'] = df['date_iso'].apply(lambda x: datetime.strptime(x, '%Y-%m-%d').strftime('%A'))\n",
        "\n",
        "# Reorder the DataFrame to match the requested order\n",
        "df = df[['Date_key', 'date_iso', 'date_yearmonth', 'year', 'month', 'day', 'day_of_week']]"
      ]
    },
    {
      "cell_type": "markdown",
      "metadata": {
        "id": "iR3Igo5frnLx"
      },
      "source": [
        "Nothing special with this one. All the other attributes are derived from the retrieved dates from the weather dataset.\n",
        "\n",
        "Date_key: integer numeration of all entries from oldest to latest <br>\n",
        "date_iso: date in format 'yyyy-mm-dd'. Copy of 'date' rows <br>\n",
        "date_yearmonth: date in format 'yyyy'mm\". <br>\n",
        "month: month of date <br>\n",
        "day: day of date <br>\n",
        "day_of_week: corresponding day of week. Calculated by %7 remainders of index <br>\n",
        "\n",
        "\n",
        "Preview rows to check for correctness"
      ]
    },
    {
      "cell_type": "code",
      "execution_count": null,
      "metadata": {
        "colab": {
          "base_uri": "https://localhost:8080/",
          "height": 833
        },
        "id": "I6ur1Lvzrm92",
        "outputId": "1c026642-8237-4c99-e93d-db7bfc774e14"
      },
      "outputs": [],
      "source": [
        "df.head(25)"
      ]
    },
    {
      "cell_type": "code",
      "execution_count": null,
      "metadata": {
        "colab": {
          "base_uri": "https://localhost:8080/",
          "height": 206
        },
        "id": "8u1WHEHTqqdr",
        "outputId": "dc2cf601-fbdc-49f8-d27e-0d060ca6e892"
      },
      "outputs": [],
      "source": [
        "# Preview the beginning of the DataFrame\n",
        "df.tail()\n"
      ]
    },
    {
      "cell_type": "markdown",
      "metadata": {
        "id": "RbqNvLXbrbaR"
      },
      "source": [
        "Run the following to save the transformed dataframe into a .csv file."
      ]
    },
    {
      "cell_type": "code",
      "execution_count": null,
      "metadata": {
        "id": "wjzLBHcerkwU"
      },
      "outputs": [],
      "source": [
        "# Export the DataFrame to CSV\n",
        "#df.to_csv('date.csv', index=False)\n"
      ]
    },
    {
      "cell_type": "markdown",
      "metadata": {
        "id": "mPe2SmNouVj4"
      },
      "source": [
        "\n",
        "\n",
        "---\n",
        "\n",
        "**Date_dimension option 2**\n",
        "The following data frame derived includes only the year and month information.\n"
      ]
    },
    {
      "cell_type": "code",
      "execution_count": null,
      "metadata": {
        "id": "iu3LiqAYuiy2"
      },
      "outputs": [],
      "source": [
        "import pandas as pd\n",
        "from datetime import datetime, timedelta\n"
      ]
    },
    {
      "cell_type": "code",
      "execution_count": null,
      "metadata": {
        "id": "c4v1upefLgoa"
      },
      "outputs": [],
      "source": [
        "# Simulated loading and preparation of the original DataFrame from the previous task\n",
        "\n",
        "# Create the DataFrame with date_iso\n",
        "data = pd.to_datetime(data)\n",
        "filtered_data = data[(data.dt.year >= 1990) & (data.dt.year <= 2023)]\n",
        "\n",
        "df2 = pd.DataFrame(filtered_data, columns=['date'])\n",
        "df2 = df.rename(columns={'date': 'date_iso'})\n",
        "\n",
        "#df.head()"
      ]
    },
    {
      "cell_type": "code",
      "execution_count": null,
      "metadata": {
        "id": "-Kwr26ddujSP"
      },
      "outputs": [],
      "source": [
        "start_date = datetime(1990, 1, 1)\n",
        "end_date = datetime(2024, 3, 1)\n",
        "date_range = pd.date_range(start=start_date, end=end_date)\n",
        "df2 = pd.DataFrame(date_range, columns=['date_iso'])\n",
        "df2['Date_key'] = df2.index + 1\n",
        "df2['date_iso'] = df2['date_iso'].dt.strftime('%Y-%m-%d')\n",
        "df2['date_yearmonth'] = df2['date_iso'].str.slice(0, 7)\n",
        "df2['year'] = df2['date_iso'].str.slice(0, 4).astype(int)\n",
        "df2['month'] = df2['date_iso'].str.slice(5, 7).astype(int)\n",
        "df2['day'] = df2['date_iso'].str.slice(8, 10).astype(int)\n",
        "df2['day_of_week'] = df2['date_iso'].apply(lambda x: datetime.strptime(x, '%Y-%m-%d').strftime('%A'))\n",
        "df2 = df2[['Date_key', 'date_iso', 'date_yearmonth', 'year', 'month', 'day', 'day_of_week']]\n"
      ]
    },
    {
      "cell_type": "code",
      "execution_count": null,
      "metadata": {
        "id": "WxadWH0zumv1"
      },
      "outputs": [],
      "source": [
        "df_ym = df2[['date_yearmonth', 'year', 'month']].drop_duplicates().reset_index(drop=True)\n",
        "df_ym['Date_ym_key'] = df_ym.index + 1\n",
        "df_ym = df_ym[['Date_ym_key', 'date_yearmonth', 'year', 'month']]\n"
      ]
    },
    {
      "cell_type": "markdown",
      "metadata": {
        "id": "CrVNROs1uyDF"
      },
      "source": [
        "preview"
      ]
    },
    {
      "cell_type": "code",
      "execution_count": null,
      "metadata": {
        "colab": {
          "base_uri": "https://localhost:8080/",
          "height": 206
        },
        "id": "jRuHhNlGuy6K",
        "outputId": "81228204-f876-4001-c95e-d1f429be0e57"
      },
      "outputs": [],
      "source": [
        "# Preview the DataFrame\n",
        "df_ym.head()\n"
      ]
    },
    {
      "cell_type": "code",
      "execution_count": null,
      "metadata": {
        "colab": {
          "base_uri": "https://localhost:8080/",
          "height": 206
        },
        "id": "9UZxgD-ru41b",
        "outputId": "9f208ee8-cfdc-4470-9f20-9193087fedb1"
      },
      "outputs": [],
      "source": [
        "df_ym.tail()"
      ]
    },
    {
      "cell_type": "markdown",
      "metadata": {
        "id": "gOr1pItQu0I-"
      },
      "source": [
        "export to csv"
      ]
    },
    {
      "cell_type": "code",
      "execution_count": null,
      "metadata": {
        "id": "8Ishri0Gu0-c"
      },
      "outputs": [],
      "source": [
        "# Export the DataFrame to a CSV file\n",
        "#df_ym.to_csv('date_yearmonth.csv', index=False)\n"
      ]
    }
  ],
  "metadata": {
    "colab": {
      "provenance": []
    },
    "kernelspec": {
      "display_name": "Python 3",
      "name": "python3"
    },
    "language_info": {
      "codemirror_mode": {
        "name": "ipython",
        "version": 3
      },
      "file_extension": ".py",
      "mimetype": "text/x-python",
      "name": "python",
      "nbconvert_exporter": "python",
      "pygments_lexer": "ipython3",
      "version": "3.11.4"
    }
  },
  "nbformat": 4,
  "nbformat_minor": 0
}
