{
  "cells": [
    {
      "cell_type": "code",
      "execution_count": 1,
      "metadata": {
        "id": "Nt3-9tEOGifJ"
      },
      "outputs": [],
      "source": [
        "# GOOGLE COLAB SETUP\n",
        "# from google.colab import drive\n",
        "# drive.mount('/content/drive')"
      ]
    },
    {
      "cell_type": "markdown",
      "metadata": {
        "id": "bllawCTaGnQa"
      },
      "source": [
        "This is the beginning of the notebook.\n",
        "\n",
        "ADM4142-A Fundamentals of Data science\n",
        "\n",
        "The goal of this notebook is to retrieve and stage the source datasets into the format used in the dimensional model for analysis.\n",
        "\n",
        "This notebook generates the Date_dimension of the weather/tourism/economy data frame.\n",
        "\n",
        "\n",
        "\n"
      ]
    },
    {
      "cell_type": "code",
      "execution_count": 2,
      "metadata": {
        "id": "ZGwWI1MyHZwy"
      },
      "outputs": [],
      "source": [
        "# import statements\n",
        "import pandas as pd\n",
        "from datetime import datetime, timedelta"
      ]
    },
    {
      "cell_type": "code",
      "execution_count": 3,
      "metadata": {
        "colab": {
          "base_uri": "https://localhost:8080/"
        },
        "id": "zst_EL_kHaLK",
        "outputId": "8879e967-e5b3-4c7e-8f9b-feb6d0b4b0ad"
      },
      "outputs": [
        {
          "name": "stderr",
          "output_type": "stream",
          "text": [
            "C:\\Users\\soonr\\AppData\\Local\\Temp\\ipykernel_2740\\3372439021.py:10: DtypeWarning: Columns (46,49) have mixed types. Specify dtype option on import or set low_memory=False.\n",
            "  data = pd.read_csv(url)[\"date\"]\n"
          ]
        },
        {
          "data": {
            "text/plain": [
              "0    2024-03-21\n",
              "1    2024-03-20\n",
              "2    2024-03-19\n",
              "3    2024-03-18\n",
              "4    2024-03-17\n",
              "Name: date, dtype: object"
            ]
          },
          "execution_count": 3,
          "metadata": {},
          "output_type": "execute_result"
        }
      ],
      "source": [
        "# Placeholder for loading the dataset's date column\n",
        "# In practice, replace the following line with code to load the dataset\n",
        "# For example: dates_from_dataset = pd.read_csv(\"path_to_weather_dataset.csv\")[\"date\"]\n",
        "\n",
        "#url_ottawa = \"https://raw.githubusercontent.com/noobstang/NNtraining/master/Weather49Sets/weatherstats_ottawa_daily.csv\"\n",
        "url_ottawa = \"https://raw.githubusercontent.com/noobstang/cscsi4142-project-datasets/master/data/weatherstats_ottawa_daily.csv\"\n",
        "\n",
        "# Load and Preprocess Data\n",
        "url = url_ottawa\n",
        "data = pd.read_csv(url)[\"date\"]\n",
        "\n",
        "data.head(5)"
      ]
    },
    {
      "cell_type": "code",
      "execution_count": 4,
      "metadata": {
        "colab": {
          "base_uri": "https://localhost:8080/",
          "height": 206
        },
        "id": "FciY9eeJJx0b",
        "outputId": "eb21e4bc-2238-436e-c3ab-38125083188e"
      },
      "outputs": [
        {
          "data": {
            "text/html": [
              "<div>\n",
              "<style scoped>\n",
              "    .dataframe tbody tr th:only-of-type {\n",
              "        vertical-align: middle;\n",
              "    }\n",
              "\n",
              "    .dataframe tbody tr th {\n",
              "        vertical-align: top;\n",
              "    }\n",
              "\n",
              "    .dataframe thead th {\n",
              "        text-align: right;\n",
              "    }\n",
              "</style>\n",
              "<table border=\"1\" class=\"dataframe\">\n",
              "  <thead>\n",
              "    <tr style=\"text-align: right;\">\n",
              "      <th></th>\n",
              "      <th>date_iso</th>\n",
              "      <th>Date_key</th>\n",
              "    </tr>\n",
              "  </thead>\n",
              "  <tbody>\n",
              "    <tr>\n",
              "      <th>0</th>\n",
              "      <td>1990-01-01</td>\n",
              "      <td>1</td>\n",
              "    </tr>\n",
              "    <tr>\n",
              "      <th>1</th>\n",
              "      <td>1990-01-02</td>\n",
              "      <td>2</td>\n",
              "    </tr>\n",
              "    <tr>\n",
              "      <th>2</th>\n",
              "      <td>1990-01-03</td>\n",
              "      <td>3</td>\n",
              "    </tr>\n",
              "    <tr>\n",
              "      <th>3</th>\n",
              "      <td>1990-01-04</td>\n",
              "      <td>4</td>\n",
              "    </tr>\n",
              "    <tr>\n",
              "      <th>4</th>\n",
              "      <td>1990-01-05</td>\n",
              "      <td>5</td>\n",
              "    </tr>\n",
              "  </tbody>\n",
              "</table>\n",
              "</div>"
            ],
            "text/plain": [
              "    date_iso  Date_key\n",
              "0 1990-01-01         1\n",
              "1 1990-01-02         2\n",
              "2 1990-01-03         3\n",
              "3 1990-01-04         4\n",
              "4 1990-01-05         5"
            ]
          },
          "execution_count": 4,
          "metadata": {},
          "output_type": "execute_result"
        }
      ],
      "source": [
        "# Create the DataFrame with date_iso\n",
        "data = pd.to_datetime(data)\n",
        "filtered_data = data[(data.dt.year >= 1990) & (data.dt.year <= 2023)]\n",
        "\n",
        "df = pd.DataFrame(filtered_data, columns=['date'])\n",
        "df = df.rename(columns={'date': 'date_iso'})\n",
        "\n",
        "# Sort the DataFrame by the 'date_iso' column from oldest to newest\n",
        "df = df.sort_values(by='date_iso')\n",
        "\n",
        "# Set the 'Date_key' enumeration, starting from 1\n",
        "df['Date_key'] = range(1, len(df) + 1)\n",
        "\n",
        "# Reset the index if desired\n",
        "df = df.reset_index(drop=True)\n",
        "\n",
        "df.head()"
      ]
    },
    {
      "cell_type": "code",
      "execution_count": 5,
      "metadata": {
        "id": "ahyQqzFIqqMm"
      },
      "outputs": [],
      "source": [
        "# Populate the DataFrame\n",
        "df['Date_key'] = df.index + 1\n",
        "df['date_iso'] = df['date_iso'].dt.strftime('%Y-%m-%d')\n",
        "df['date_yearmonth'] = df['date_iso'].str.slice(0, 7)\n",
        "df['year'] = df['date_iso'].str.slice(0, 4).astype(int)\n",
        "df['month'] = df['date_iso'].str.slice(5, 7).astype(int)\n",
        "df['day'] = df['date_iso'].str.slice(8, 10).astype(int)\n",
        "df['day_of_week'] = df['date_iso'].apply(lambda x: datetime.strptime(x, '%Y-%m-%d').strftime('%A'))\n",
        "\n",
        "# Reorder the DataFrame to match the requested order\n",
        "df = df[['Date_key', 'date_iso', 'date_yearmonth', 'year', 'month', 'day', 'day_of_week']]"
      ]
    },
    {
      "cell_type": "markdown",
      "metadata": {
        "id": "iR3Igo5frnLx"
      },
      "source": [
        "Nothing special with this one. All the other attributes are derived from the retrieved dates from the weather dataset.\n",
        "\n",
        "Date_key: integer numeration of all entries from oldest to latest <br>\n",
        "date_iso: date in format 'yyyy-mm-dd'. Copy of 'date' rows <br>\n",
        "date_yearmonth: date in format 'yyyy'mm\". <br>\n",
        "month: month of date <br>\n",
        "day: day of date <br>\n",
        "day_of_week: corresponding day of week. Calculated by %7 remainders of index <br>\n",
        "\n",
        "\n",
        "Preview rows to check for correctness"
      ]
    },
    {
      "cell_type": "code",
      "execution_count": 6,
      "metadata": {
        "colab": {
          "base_uri": "https://localhost:8080/",
          "height": 833
        },
        "id": "I6ur1Lvzrm92",
        "outputId": "1c026642-8237-4c99-e93d-db7bfc774e14"
      },
      "outputs": [
        {
          "data": {
            "text/html": [
              "<div>\n",
              "<style scoped>\n",
              "    .dataframe tbody tr th:only-of-type {\n",
              "        vertical-align: middle;\n",
              "    }\n",
              "\n",
              "    .dataframe tbody tr th {\n",
              "        vertical-align: top;\n",
              "    }\n",
              "\n",
              "    .dataframe thead th {\n",
              "        text-align: right;\n",
              "    }\n",
              "</style>\n",
              "<table border=\"1\" class=\"dataframe\">\n",
              "  <thead>\n",
              "    <tr style=\"text-align: right;\">\n",
              "      <th></th>\n",
              "      <th>Date_key</th>\n",
              "      <th>date_iso</th>\n",
              "      <th>date_yearmonth</th>\n",
              "      <th>year</th>\n",
              "      <th>month</th>\n",
              "      <th>day</th>\n",
              "      <th>day_of_week</th>\n",
              "    </tr>\n",
              "  </thead>\n",
              "  <tbody>\n",
              "    <tr>\n",
              "      <th>0</th>\n",
              "      <td>1</td>\n",
              "      <td>1990-01-01</td>\n",
              "      <td>1990-01</td>\n",
              "      <td>1990</td>\n",
              "      <td>1</td>\n",
              "      <td>1</td>\n",
              "      <td>Monday</td>\n",
              "    </tr>\n",
              "    <tr>\n",
              "      <th>1</th>\n",
              "      <td>2</td>\n",
              "      <td>1990-01-02</td>\n",
              "      <td>1990-01</td>\n",
              "      <td>1990</td>\n",
              "      <td>1</td>\n",
              "      <td>2</td>\n",
              "      <td>Tuesday</td>\n",
              "    </tr>\n",
              "    <tr>\n",
              "      <th>2</th>\n",
              "      <td>3</td>\n",
              "      <td>1990-01-03</td>\n",
              "      <td>1990-01</td>\n",
              "      <td>1990</td>\n",
              "      <td>1</td>\n",
              "      <td>3</td>\n",
              "      <td>Wednesday</td>\n",
              "    </tr>\n",
              "    <tr>\n",
              "      <th>3</th>\n",
              "      <td>4</td>\n",
              "      <td>1990-01-04</td>\n",
              "      <td>1990-01</td>\n",
              "      <td>1990</td>\n",
              "      <td>1</td>\n",
              "      <td>4</td>\n",
              "      <td>Thursday</td>\n",
              "    </tr>\n",
              "    <tr>\n",
              "      <th>4</th>\n",
              "      <td>5</td>\n",
              "      <td>1990-01-05</td>\n",
              "      <td>1990-01</td>\n",
              "      <td>1990</td>\n",
              "      <td>1</td>\n",
              "      <td>5</td>\n",
              "      <td>Friday</td>\n",
              "    </tr>\n",
              "    <tr>\n",
              "      <th>5</th>\n",
              "      <td>6</td>\n",
              "      <td>1990-01-06</td>\n",
              "      <td>1990-01</td>\n",
              "      <td>1990</td>\n",
              "      <td>1</td>\n",
              "      <td>6</td>\n",
              "      <td>Saturday</td>\n",
              "    </tr>\n",
              "    <tr>\n",
              "      <th>6</th>\n",
              "      <td>7</td>\n",
              "      <td>1990-01-07</td>\n",
              "      <td>1990-01</td>\n",
              "      <td>1990</td>\n",
              "      <td>1</td>\n",
              "      <td>7</td>\n",
              "      <td>Sunday</td>\n",
              "    </tr>\n",
              "    <tr>\n",
              "      <th>7</th>\n",
              "      <td>8</td>\n",
              "      <td>1990-01-08</td>\n",
              "      <td>1990-01</td>\n",
              "      <td>1990</td>\n",
              "      <td>1</td>\n",
              "      <td>8</td>\n",
              "      <td>Monday</td>\n",
              "    </tr>\n",
              "    <tr>\n",
              "      <th>8</th>\n",
              "      <td>9</td>\n",
              "      <td>1990-01-09</td>\n",
              "      <td>1990-01</td>\n",
              "      <td>1990</td>\n",
              "      <td>1</td>\n",
              "      <td>9</td>\n",
              "      <td>Tuesday</td>\n",
              "    </tr>\n",
              "    <tr>\n",
              "      <th>9</th>\n",
              "      <td>10</td>\n",
              "      <td>1990-01-10</td>\n",
              "      <td>1990-01</td>\n",
              "      <td>1990</td>\n",
              "      <td>1</td>\n",
              "      <td>10</td>\n",
              "      <td>Wednesday</td>\n",
              "    </tr>\n",
              "    <tr>\n",
              "      <th>10</th>\n",
              "      <td>11</td>\n",
              "      <td>1990-01-11</td>\n",
              "      <td>1990-01</td>\n",
              "      <td>1990</td>\n",
              "      <td>1</td>\n",
              "      <td>11</td>\n",
              "      <td>Thursday</td>\n",
              "    </tr>\n",
              "    <tr>\n",
              "      <th>11</th>\n",
              "      <td>12</td>\n",
              "      <td>1990-01-12</td>\n",
              "      <td>1990-01</td>\n",
              "      <td>1990</td>\n",
              "      <td>1</td>\n",
              "      <td>12</td>\n",
              "      <td>Friday</td>\n",
              "    </tr>\n",
              "    <tr>\n",
              "      <th>12</th>\n",
              "      <td>13</td>\n",
              "      <td>1990-01-13</td>\n",
              "      <td>1990-01</td>\n",
              "      <td>1990</td>\n",
              "      <td>1</td>\n",
              "      <td>13</td>\n",
              "      <td>Saturday</td>\n",
              "    </tr>\n",
              "    <tr>\n",
              "      <th>13</th>\n",
              "      <td>14</td>\n",
              "      <td>1990-01-14</td>\n",
              "      <td>1990-01</td>\n",
              "      <td>1990</td>\n",
              "      <td>1</td>\n",
              "      <td>14</td>\n",
              "      <td>Sunday</td>\n",
              "    </tr>\n",
              "    <tr>\n",
              "      <th>14</th>\n",
              "      <td>15</td>\n",
              "      <td>1990-01-15</td>\n",
              "      <td>1990-01</td>\n",
              "      <td>1990</td>\n",
              "      <td>1</td>\n",
              "      <td>15</td>\n",
              "      <td>Monday</td>\n",
              "    </tr>\n",
              "    <tr>\n",
              "      <th>15</th>\n",
              "      <td>16</td>\n",
              "      <td>1990-01-16</td>\n",
              "      <td>1990-01</td>\n",
              "      <td>1990</td>\n",
              "      <td>1</td>\n",
              "      <td>16</td>\n",
              "      <td>Tuesday</td>\n",
              "    </tr>\n",
              "    <tr>\n",
              "      <th>16</th>\n",
              "      <td>17</td>\n",
              "      <td>1990-01-17</td>\n",
              "      <td>1990-01</td>\n",
              "      <td>1990</td>\n",
              "      <td>1</td>\n",
              "      <td>17</td>\n",
              "      <td>Wednesday</td>\n",
              "    </tr>\n",
              "    <tr>\n",
              "      <th>17</th>\n",
              "      <td>18</td>\n",
              "      <td>1990-01-18</td>\n",
              "      <td>1990-01</td>\n",
              "      <td>1990</td>\n",
              "      <td>1</td>\n",
              "      <td>18</td>\n",
              "      <td>Thursday</td>\n",
              "    </tr>\n",
              "    <tr>\n",
              "      <th>18</th>\n",
              "      <td>19</td>\n",
              "      <td>1990-01-19</td>\n",
              "      <td>1990-01</td>\n",
              "      <td>1990</td>\n",
              "      <td>1</td>\n",
              "      <td>19</td>\n",
              "      <td>Friday</td>\n",
              "    </tr>\n",
              "    <tr>\n",
              "      <th>19</th>\n",
              "      <td>20</td>\n",
              "      <td>1990-01-20</td>\n",
              "      <td>1990-01</td>\n",
              "      <td>1990</td>\n",
              "      <td>1</td>\n",
              "      <td>20</td>\n",
              "      <td>Saturday</td>\n",
              "    </tr>\n",
              "    <tr>\n",
              "      <th>20</th>\n",
              "      <td>21</td>\n",
              "      <td>1990-01-21</td>\n",
              "      <td>1990-01</td>\n",
              "      <td>1990</td>\n",
              "      <td>1</td>\n",
              "      <td>21</td>\n",
              "      <td>Sunday</td>\n",
              "    </tr>\n",
              "    <tr>\n",
              "      <th>21</th>\n",
              "      <td>22</td>\n",
              "      <td>1990-01-22</td>\n",
              "      <td>1990-01</td>\n",
              "      <td>1990</td>\n",
              "      <td>1</td>\n",
              "      <td>22</td>\n",
              "      <td>Monday</td>\n",
              "    </tr>\n",
              "    <tr>\n",
              "      <th>22</th>\n",
              "      <td>23</td>\n",
              "      <td>1990-01-23</td>\n",
              "      <td>1990-01</td>\n",
              "      <td>1990</td>\n",
              "      <td>1</td>\n",
              "      <td>23</td>\n",
              "      <td>Tuesday</td>\n",
              "    </tr>\n",
              "    <tr>\n",
              "      <th>23</th>\n",
              "      <td>24</td>\n",
              "      <td>1990-01-24</td>\n",
              "      <td>1990-01</td>\n",
              "      <td>1990</td>\n",
              "      <td>1</td>\n",
              "      <td>24</td>\n",
              "      <td>Wednesday</td>\n",
              "    </tr>\n",
              "    <tr>\n",
              "      <th>24</th>\n",
              "      <td>25</td>\n",
              "      <td>1990-01-25</td>\n",
              "      <td>1990-01</td>\n",
              "      <td>1990</td>\n",
              "      <td>1</td>\n",
              "      <td>25</td>\n",
              "      <td>Thursday</td>\n",
              "    </tr>\n",
              "  </tbody>\n",
              "</table>\n",
              "</div>"
            ],
            "text/plain": [
              "    Date_key    date_iso date_yearmonth  year  month  day day_of_week\n",
              "0          1  1990-01-01        1990-01  1990      1    1      Monday\n",
              "1          2  1990-01-02        1990-01  1990      1    2     Tuesday\n",
              "2          3  1990-01-03        1990-01  1990      1    3   Wednesday\n",
              "3          4  1990-01-04        1990-01  1990      1    4    Thursday\n",
              "4          5  1990-01-05        1990-01  1990      1    5      Friday\n",
              "5          6  1990-01-06        1990-01  1990      1    6    Saturday\n",
              "6          7  1990-01-07        1990-01  1990      1    7      Sunday\n",
              "7          8  1990-01-08        1990-01  1990      1    8      Monday\n",
              "8          9  1990-01-09        1990-01  1990      1    9     Tuesday\n",
              "9         10  1990-01-10        1990-01  1990      1   10   Wednesday\n",
              "10        11  1990-01-11        1990-01  1990      1   11    Thursday\n",
              "11        12  1990-01-12        1990-01  1990      1   12      Friday\n",
              "12        13  1990-01-13        1990-01  1990      1   13    Saturday\n",
              "13        14  1990-01-14        1990-01  1990      1   14      Sunday\n",
              "14        15  1990-01-15        1990-01  1990      1   15      Monday\n",
              "15        16  1990-01-16        1990-01  1990      1   16     Tuesday\n",
              "16        17  1990-01-17        1990-01  1990      1   17   Wednesday\n",
              "17        18  1990-01-18        1990-01  1990      1   18    Thursday\n",
              "18        19  1990-01-19        1990-01  1990      1   19      Friday\n",
              "19        20  1990-01-20        1990-01  1990      1   20    Saturday\n",
              "20        21  1990-01-21        1990-01  1990      1   21      Sunday\n",
              "21        22  1990-01-22        1990-01  1990      1   22      Monday\n",
              "22        23  1990-01-23        1990-01  1990      1   23     Tuesday\n",
              "23        24  1990-01-24        1990-01  1990      1   24   Wednesday\n",
              "24        25  1990-01-25        1990-01  1990      1   25    Thursday"
            ]
          },
          "execution_count": 6,
          "metadata": {},
          "output_type": "execute_result"
        }
      ],
      "source": [
        "df.head(25)"
      ]
    },
    {
      "cell_type": "code",
      "execution_count": 7,
      "metadata": {
        "colab": {
          "base_uri": "https://localhost:8080/",
          "height": 206
        },
        "id": "8u1WHEHTqqdr",
        "outputId": "dc2cf601-fbdc-49f8-d27e-0d060ca6e892"
      },
      "outputs": [
        {
          "data": {
            "text/html": [
              "<div>\n",
              "<style scoped>\n",
              "    .dataframe tbody tr th:only-of-type {\n",
              "        vertical-align: middle;\n",
              "    }\n",
              "\n",
              "    .dataframe tbody tr th {\n",
              "        vertical-align: top;\n",
              "    }\n",
              "\n",
              "    .dataframe thead th {\n",
              "        text-align: right;\n",
              "    }\n",
              "</style>\n",
              "<table border=\"1\" class=\"dataframe\">\n",
              "  <thead>\n",
              "    <tr style=\"text-align: right;\">\n",
              "      <th></th>\n",
              "      <th>Date_key</th>\n",
              "      <th>date_iso</th>\n",
              "      <th>date_yearmonth</th>\n",
              "      <th>year</th>\n",
              "      <th>month</th>\n",
              "      <th>day</th>\n",
              "      <th>day_of_week</th>\n",
              "    </tr>\n",
              "  </thead>\n",
              "  <tbody>\n",
              "    <tr>\n",
              "      <th>12413</th>\n",
              "      <td>12414</td>\n",
              "      <td>2023-12-27</td>\n",
              "      <td>2023-12</td>\n",
              "      <td>2023</td>\n",
              "      <td>12</td>\n",
              "      <td>27</td>\n",
              "      <td>Wednesday</td>\n",
              "    </tr>\n",
              "    <tr>\n",
              "      <th>12414</th>\n",
              "      <td>12415</td>\n",
              "      <td>2023-12-28</td>\n",
              "      <td>2023-12</td>\n",
              "      <td>2023</td>\n",
              "      <td>12</td>\n",
              "      <td>28</td>\n",
              "      <td>Thursday</td>\n",
              "    </tr>\n",
              "    <tr>\n",
              "      <th>12415</th>\n",
              "      <td>12416</td>\n",
              "      <td>2023-12-29</td>\n",
              "      <td>2023-12</td>\n",
              "      <td>2023</td>\n",
              "      <td>12</td>\n",
              "      <td>29</td>\n",
              "      <td>Friday</td>\n",
              "    </tr>\n",
              "    <tr>\n",
              "      <th>12416</th>\n",
              "      <td>12417</td>\n",
              "      <td>2023-12-30</td>\n",
              "      <td>2023-12</td>\n",
              "      <td>2023</td>\n",
              "      <td>12</td>\n",
              "      <td>30</td>\n",
              "      <td>Saturday</td>\n",
              "    </tr>\n",
              "    <tr>\n",
              "      <th>12417</th>\n",
              "      <td>12418</td>\n",
              "      <td>2023-12-31</td>\n",
              "      <td>2023-12</td>\n",
              "      <td>2023</td>\n",
              "      <td>12</td>\n",
              "      <td>31</td>\n",
              "      <td>Sunday</td>\n",
              "    </tr>\n",
              "  </tbody>\n",
              "</table>\n",
              "</div>"
            ],
            "text/plain": [
              "       Date_key    date_iso date_yearmonth  year  month  day day_of_week\n",
              "12413     12414  2023-12-27        2023-12  2023     12   27   Wednesday\n",
              "12414     12415  2023-12-28        2023-12  2023     12   28    Thursday\n",
              "12415     12416  2023-12-29        2023-12  2023     12   29      Friday\n",
              "12416     12417  2023-12-30        2023-12  2023     12   30    Saturday\n",
              "12417     12418  2023-12-31        2023-12  2023     12   31      Sunday"
            ]
          },
          "execution_count": 7,
          "metadata": {},
          "output_type": "execute_result"
        }
      ],
      "source": [
        "# Preview the beginning of the DataFrame\n",
        "df.tail()\n"
      ]
    },
    {
      "cell_type": "markdown",
      "metadata": {
        "id": "RbqNvLXbrbaR"
      },
      "source": [
        "Run the following to save the transformed dataframe into a .csv file."
      ]
    },
    {
      "cell_type": "code",
      "execution_count": 8,
      "metadata": {
        "id": "wjzLBHcerkwU"
      },
      "outputs": [],
      "source": [
        "# Export the DataFrame to CSV\n",
        "#df.to_csv('date.csv', index=False)\n"
      ]
    },
    {
      "cell_type": "markdown",
      "metadata": {
        "id": "mPe2SmNouVj4"
      },
      "source": [
        "\n",
        "\n",
        "---\n",
        "\n",
        "**Date_dimension option 2**\n",
        "The following data frame derived includes only the year and month information.\n"
      ]
    },
    {
      "cell_type": "code",
      "execution_count": 9,
      "metadata": {
        "id": "iu3LiqAYuiy2"
      },
      "outputs": [],
      "source": [
        "import pandas as pd\n",
        "from datetime import datetime, timedelta\n"
      ]
    },
    {
      "cell_type": "code",
      "execution_count": 10,
      "metadata": {
        "id": "c4v1upefLgoa"
      },
      "outputs": [],
      "source": [
        "# Simulated loading and preparation of the original DataFrame from the previous task\n",
        "\n",
        "# Create the DataFrame with date_iso\n",
        "data = pd.to_datetime(data)\n",
        "filtered_data = data[(data.dt.year >= 1990) & (data.dt.year <= 2023)]\n",
        "\n",
        "df2 = pd.DataFrame(filtered_data, columns=['date'])\n",
        "df2 = df.rename(columns={'date': 'date_iso'})\n",
        "\n",
        "#df.head()"
      ]
    },
    {
      "cell_type": "code",
      "execution_count": 11,
      "metadata": {
        "id": "-Kwr26ddujSP"
      },
      "outputs": [],
      "source": [
        "start_date = datetime(1990, 1, 1)\n",
        "end_date = datetime(2024, 3, 1)\n",
        "date_range = pd.date_range(start=start_date, end=end_date)\n",
        "df2 = pd.DataFrame(date_range, columns=['date_iso'])\n",
        "df2['Date_key'] = df2.index + 1\n",
        "df2['date_iso'] = df2['date_iso'].dt.strftime('%Y-%m-%d')\n",
        "df2['date_yearmonth'] = df2['date_iso'].str.slice(0, 7)\n",
        "df2['year'] = df2['date_iso'].str.slice(0, 4).astype(int)\n",
        "df2['month'] = df2['date_iso'].str.slice(5, 7).astype(int)\n",
        "df2['day'] = df2['date_iso'].str.slice(8, 10).astype(int)\n",
        "df2['day_of_week'] = df2['date_iso'].apply(lambda x: datetime.strptime(x, '%Y-%m-%d').strftime('%A'))\n",
        "df2 = df2[['Date_key', 'date_iso', 'date_yearmonth', 'year', 'month', 'day', 'day_of_week']]\n"
      ]
    },
    {
      "cell_type": "code",
      "execution_count": 12,
      "metadata": {
        "id": "WxadWH0zumv1"
      },
      "outputs": [],
      "source": [
        "df_ym = df2[['date_yearmonth', 'year', 'month']].drop_duplicates().reset_index(drop=True)\n",
        "df_ym['Date_ym_key'] = df_ym.index + 1\n",
        "df_ym = df_ym[['Date_ym_key', 'date_yearmonth', 'year', 'month']]\n"
      ]
    },
    {
      "cell_type": "markdown",
      "metadata": {
        "id": "CrVNROs1uyDF"
      },
      "source": [
        "preview"
      ]
    },
    {
      "cell_type": "code",
      "execution_count": 13,
      "metadata": {
        "colab": {
          "base_uri": "https://localhost:8080/",
          "height": 206
        },
        "id": "jRuHhNlGuy6K",
        "outputId": "81228204-f876-4001-c95e-d1f429be0e57"
      },
      "outputs": [
        {
          "data": {
            "text/html": [
              "<div>\n",
              "<style scoped>\n",
              "    .dataframe tbody tr th:only-of-type {\n",
              "        vertical-align: middle;\n",
              "    }\n",
              "\n",
              "    .dataframe tbody tr th {\n",
              "        vertical-align: top;\n",
              "    }\n",
              "\n",
              "    .dataframe thead th {\n",
              "        text-align: right;\n",
              "    }\n",
              "</style>\n",
              "<table border=\"1\" class=\"dataframe\">\n",
              "  <thead>\n",
              "    <tr style=\"text-align: right;\">\n",
              "      <th></th>\n",
              "      <th>Date_ym_key</th>\n",
              "      <th>date_yearmonth</th>\n",
              "      <th>year</th>\n",
              "      <th>month</th>\n",
              "    </tr>\n",
              "  </thead>\n",
              "  <tbody>\n",
              "    <tr>\n",
              "      <th>0</th>\n",
              "      <td>1</td>\n",
              "      <td>1990-01</td>\n",
              "      <td>1990</td>\n",
              "      <td>1</td>\n",
              "    </tr>\n",
              "    <tr>\n",
              "      <th>1</th>\n",
              "      <td>2</td>\n",
              "      <td>1990-02</td>\n",
              "      <td>1990</td>\n",
              "      <td>2</td>\n",
              "    </tr>\n",
              "    <tr>\n",
              "      <th>2</th>\n",
              "      <td>3</td>\n",
              "      <td>1990-03</td>\n",
              "      <td>1990</td>\n",
              "      <td>3</td>\n",
              "    </tr>\n",
              "    <tr>\n",
              "      <th>3</th>\n",
              "      <td>4</td>\n",
              "      <td>1990-04</td>\n",
              "      <td>1990</td>\n",
              "      <td>4</td>\n",
              "    </tr>\n",
              "    <tr>\n",
              "      <th>4</th>\n",
              "      <td>5</td>\n",
              "      <td>1990-05</td>\n",
              "      <td>1990</td>\n",
              "      <td>5</td>\n",
              "    </tr>\n",
              "  </tbody>\n",
              "</table>\n",
              "</div>"
            ],
            "text/plain": [
              "   Date_ym_key date_yearmonth  year  month\n",
              "0            1        1990-01  1990      1\n",
              "1            2        1990-02  1990      2\n",
              "2            3        1990-03  1990      3\n",
              "3            4        1990-04  1990      4\n",
              "4            5        1990-05  1990      5"
            ]
          },
          "execution_count": 13,
          "metadata": {},
          "output_type": "execute_result"
        }
      ],
      "source": [
        "# Preview the DataFrame\n",
        "df_ym.head()\n"
      ]
    },
    {
      "cell_type": "code",
      "execution_count": 14,
      "metadata": {
        "colab": {
          "base_uri": "https://localhost:8080/",
          "height": 206
        },
        "id": "9UZxgD-ru41b",
        "outputId": "9f208ee8-cfdc-4470-9f20-9193087fedb1"
      },
      "outputs": [
        {
          "data": {
            "text/html": [
              "<div>\n",
              "<style scoped>\n",
              "    .dataframe tbody tr th:only-of-type {\n",
              "        vertical-align: middle;\n",
              "    }\n",
              "\n",
              "    .dataframe tbody tr th {\n",
              "        vertical-align: top;\n",
              "    }\n",
              "\n",
              "    .dataframe thead th {\n",
              "        text-align: right;\n",
              "    }\n",
              "</style>\n",
              "<table border=\"1\" class=\"dataframe\">\n",
              "  <thead>\n",
              "    <tr style=\"text-align: right;\">\n",
              "      <th></th>\n",
              "      <th>Date_ym_key</th>\n",
              "      <th>date_yearmonth</th>\n",
              "      <th>year</th>\n",
              "      <th>month</th>\n",
              "    </tr>\n",
              "  </thead>\n",
              "  <tbody>\n",
              "    <tr>\n",
              "      <th>406</th>\n",
              "      <td>407</td>\n",
              "      <td>2023-11</td>\n",
              "      <td>2023</td>\n",
              "      <td>11</td>\n",
              "    </tr>\n",
              "    <tr>\n",
              "      <th>407</th>\n",
              "      <td>408</td>\n",
              "      <td>2023-12</td>\n",
              "      <td>2023</td>\n",
              "      <td>12</td>\n",
              "    </tr>\n",
              "    <tr>\n",
              "      <th>408</th>\n",
              "      <td>409</td>\n",
              "      <td>2024-01</td>\n",
              "      <td>2024</td>\n",
              "      <td>1</td>\n",
              "    </tr>\n",
              "    <tr>\n",
              "      <th>409</th>\n",
              "      <td>410</td>\n",
              "      <td>2024-02</td>\n",
              "      <td>2024</td>\n",
              "      <td>2</td>\n",
              "    </tr>\n",
              "    <tr>\n",
              "      <th>410</th>\n",
              "      <td>411</td>\n",
              "      <td>2024-03</td>\n",
              "      <td>2024</td>\n",
              "      <td>3</td>\n",
              "    </tr>\n",
              "  </tbody>\n",
              "</table>\n",
              "</div>"
            ],
            "text/plain": [
              "     Date_ym_key date_yearmonth  year  month\n",
              "406          407        2023-11  2023     11\n",
              "407          408        2023-12  2023     12\n",
              "408          409        2024-01  2024      1\n",
              "409          410        2024-02  2024      2\n",
              "410          411        2024-03  2024      3"
            ]
          },
          "execution_count": 14,
          "metadata": {},
          "output_type": "execute_result"
        }
      ],
      "source": [
        "df_ym.tail()"
      ]
    },
    {
      "cell_type": "markdown",
      "metadata": {
        "id": "gOr1pItQu0I-"
      },
      "source": [
        "export to csv"
      ]
    },
    {
      "cell_type": "code",
      "execution_count": 15,
      "metadata": {
        "id": "8Ishri0Gu0-c"
      },
      "outputs": [],
      "source": [
        "# Export the DataFrame to a CSV file\n",
        "#df_ym.to_csv('date_yearmonth.csv', index=False)\n"
      ]
    }
  ],
  "metadata": {
    "colab": {
      "provenance": []
    },
    "kernelspec": {
      "display_name": "Python 3",
      "name": "python3"
    },
    "language_info": {
      "codemirror_mode": {
        "name": "ipython",
        "version": 3
      },
      "file_extension": ".py",
      "mimetype": "text/x-python",
      "name": "python",
      "nbconvert_exporter": "python",
      "pygments_lexer": "ipython3",
      "version": "3.11.4"
    }
  },
  "nbformat": 4,
  "nbformat_minor": 0
}
