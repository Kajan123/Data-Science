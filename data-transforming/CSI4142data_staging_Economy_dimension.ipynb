{
  "cells": [
    {
      "cell_type": "code",
      "execution_count": null,
      "metadata": {
        "id": "jHDqul0VI6pI"
      },
      "outputs": [],
      "source": [
        "# GOOGLE COLAB SETUP\n",
        "# from google.colab import drive\n",
        "# drive.mount('/content/drive')"
      ]
    },
    {
      "cell_type": "markdown",
      "metadata": {
        "id": "OMhiguu2OPZS"
      },
      "source": [
        "This is the beginning of the notebook.\n",
        "\n",
        "##ADM4142-A Fundamentals of Data science <br>\n",
        "The goal of this notebook is to retrieve and stage the source datasets into the format used in the dimensional model for analysis.\n",
        "\n",
        "This notebook generates the Economy_dimension of the weather/tourism/economy data frame.\n",
        "\n",
        "###Economy dimension as follows:\n",
        "\n",
        "    Economy_key (PK)\n",
        "    Location_key (FK)\n",
        "    Date_key (FK)\n",
        "    GDP: float\n",
        "    GDP per capita: float\n",
        "    GDP growth rate: float\n",
        "\n",
        "* Economy_key (PK): integer enumeration of entries from oldest to latest<br>\n",
        "* Location_key (FK): location for which this data applies. <br>\n",
        "* Date_key (FK): year for which the data applies. Redundant as this is already * present in the corresponding Location_key entry. <br>\n",
        "* GDP: adjusted annual GDP, in Chained (2017) CAD. <br>\n",
        "* GDP per capita: adjusted annual GDP per capita, calculated with GDP/population <br>\n",
        "* GDP growth rate: percentage change from previous year. <br>\n",
        "\n",
        "      E.g. 1990 would be calculated using 1990 data / 1989 data * 100%\n",
        "\n"
      ]
    },
    {
      "cell_type": "code",
      "execution_count": null,
      "metadata": {
        "id": "SzAfGLFgOOwU"
      },
      "outputs": [],
      "source": [
        "import pandas as pd\n"
      ]
    },
    {
      "cell_type": "markdown",
      "metadata": {
        "id": "_qwx-gIFmSwv"
      },
      "source": [
        "Load and combine datasets"
      ]
    },
    {
      "cell_type": "code",
      "execution_count": null,
      "metadata": {
        "id": "IonHQzmXmRAl"
      },
      "outputs": [],
      "source": [
        "# URLs of the datasets\n",
        "urls = [\n",
        "    'https://raw.githubusercontent.com/noobstang/cscsi4142-project-datasets/master/data/3610040201_databaseLoadingData-annualProvincialGDP-allIndustries.csv',\n",
        "    'https://raw.githubusercontent.com/noobstang/cscsi4142-project-datasets/master/data/3610040201_databaseLoadingData-annualProvincialGDP-airTransport.csv',\n",
        "    'https://raw.githubusercontent.com/noobstang/cscsi4142-project-datasets/master/data/3610040201_databaseLoadingData-annualProvincialGDP-groundTransport.csv',\n",
        "    'https://raw.githubusercontent.com/noobstang/cscsi4142-project-datasets/master/data/3610040201_databaseLoadingData-annualProvincialGDP-waterTransport.csv',\n",
        "    'https://raw.githubusercontent.com/noobstang/cscsi4142-project-datasets/master/data/3610040201_databaseLoadingData-annualProvincialGDP-TransportationWarehousing.csv'\n",
        "]\n",
        "\n",
        "# Initialize an empty list to store DataFrames\n",
        "dataframes = []\n",
        "\n",
        "# Load each dataset, apply transformations, and append to the list\n",
        "for url in urls:\n",
        "    df = pd.read_csv(url)\n",
        "    dataframes.append(df)\n",
        "\n",
        "# Combine all DataFrames into a single DataFrame\n",
        "combined_df = pd.concat(dataframes, ignore_index=True)\n"
      ]
    },
    {
      "cell_type": "code",
      "execution_count": null,
      "metadata": {
        "colab": {
          "base_uri": "https://localhost:8080/",
          "height": 520
        },
        "id": "mqi7yKCZcK2x",
        "outputId": "6d7b0051-5c14-42b3-9291-105f348e6f35"
      },
      "outputs": [],
      "source": [
        "# Aggregate the combined_df set with GDP stats for all of Canada. This is for analytical purposes in later stages.\n",
        "\n",
        "# Group the data by 'REF_DATE' and 'North American Industry Classification System (NAICS)', and sum up the 'VALUE'\n",
        "canada_aggregated = combined_df.groupby(['REF_DATE', 'North American Industry Classification System (NAICS)'])['VALUE'].sum().reset_index()\n",
        "\n",
        "# Add a 'GEO' column with the value 'Canada' to the aggregated data\n",
        "canada_aggregated['GEO'] = 'Canada'\n",
        "\n",
        "# Rearrange columns to match the original DataFrame structure\n",
        "canada_aggregated = canada_aggregated[['REF_DATE', 'GEO', 'North American Industry Classification System (NAICS)', 'VALUE']]\n",
        "\n",
        "# Append the aggregated data to the original DataFrame\n",
        "combined_df = pd.concat([combined_df, canada_aggregated], ignore_index=True)\n",
        "\n",
        "combined_df.tail(15)"
      ]
    },
    {
      "cell_type": "markdown",
      "metadata": {
        "id": "L90FLncOmWch"
      },
      "source": [
        "Data filtering and transformation"
      ]
    },
    {
      "cell_type": "code",
      "execution_count": null,
      "metadata": {
        "colab": {
          "base_uri": "https://localhost:8080/"
        },
        "id": "jPiNzQslmXv6",
        "outputId": "9d6fb85e-8e77-44bc-e0b7-15530acdb456"
      },
      "outputs": [],
      "source": [
        "# Filter rows based on the \"GEO\" column\n",
        "filtered_df = combined_df[combined_df['GEO'].isin(['Canada', 'Alberta', 'British Columbia', 'Ontario', 'Quebec'])]\n",
        "\n",
        "# Apply transformations to the \"North American Industry Classification System (NAICS)\" column\n",
        "naics_transformations = {\n",
        "    'All industries (except cannabis sector) [T020]': 'All industries',\n",
        "    'Transportation and warehousing [48-49]': 'All transportation',\n",
        "    'Air transportation [481]': 'Air transportation',\n",
        "    'Transit, ground passenger and scenic and sightseeing transportation [48Z]': 'Ground transportation',\n",
        "    'Water transportation [483]': 'Water Transportation'\n",
        "}\n",
        "\n",
        "filtered_df['North American Industry Classification System (NAICS)'] = filtered_df['North American Industry Classification System (NAICS)'].replace(naics_transformations)\n"
      ]
    },
    {
      "cell_type": "code",
      "execution_count": null,
      "metadata": {
        "colab": {
          "base_uri": "https://localhost:8080/",
          "height": 990
        },
        "id": "7-Dp0eoiNnLn",
        "outputId": "0b774625-35b4-4b60-e0bc-255040e612cb"
      },
      "outputs": [],
      "source": [
        "filtered_df.tail(30)"
      ]
    },
    {
      "cell_type": "markdown",
      "metadata": {
        "id": "9_8E3RRYmcj-"
      },
      "source": [
        "##Filtering, transforming, and feature engineering.\n",
        "\n",
        "Take the needed columns with the correct column headings.\n",
        "\n",
        "Engineer the 'GDP per capita' and 'GDP growth rate' features by calculating with the population values from the location data."
      ]
    },
    {
      "cell_type": "markdown",
      "metadata": {
        "id": "sR-o0wpcmB6M"
      },
      "source": [
        "Load the location and date dimensions to prepare for joining"
      ]
    },
    {
      "cell_type": "code",
      "execution_count": null,
      "metadata": {
        "id": "2gt2Vndgi-bT"
      },
      "outputs": [],
      "source": [
        "# Load the location dimension\n",
        "location_url = 'https://raw.githubusercontent.com/noobstang/cscsi4142-project-datasets/master/dimension/location.csv'\n",
        "location_df = pd.read_csv(location_url)\n",
        "\n",
        "# Load the date dimension\n",
        "date_url = 'https://raw.githubusercontent.com/noobstang/cscsi4142-project-datasets/master/dimension/date.csv'\n",
        "date_df = pd.read_csv(date_url)\n",
        "\n"
      ]
    },
    {
      "cell_type": "markdown",
      "metadata": {
        "id": "KWYucLP-mF3z"
      },
      "source": [
        "Join the Economy dimension with the Date dimension by Jan. 1st of the year value."
      ]
    },
    {
      "cell_type": "code",
      "execution_count": null,
      "metadata": {
        "id": "VS9AMmPsjJDw"
      },
      "outputs": [],
      "source": [
        "# Filter for years 1997 to 2022. These are the only data available to join for the Economy dimension\n",
        "\n",
        "# Filter date_df for January 1st entries if not already done\n",
        "jan_1st_entries = date_df[(date_df['month'] == 1) & (date_df['day'] == 1)]\n",
        "\n",
        "# Join combined_df with jan_1st_entries to get 'Date_key'\n",
        "# Assuming 'REF_DATE' in combined_df accurately reflects the year\n",
        "#combined_df = combined_df.merge(jan_1st_entries[['year', 'Date_key']], left_on='REF_DATE', right_on='year', how='left')\n",
        "combined_df = filtered_df.merge(jan_1st_entries[['year', 'Date_key']], left_on='REF_DATE', right_on='year', how='left')\n",
        "\n"
      ]
    },
    {
      "cell_type": "markdown",
      "metadata": {
        "id": "qyDlah6kmQPk"
      },
      "source": [
        "After joining the Date dimension, use the Date_key for the corresponding year value, join the economy data with the location data."
      ]
    },
    {
      "cell_type": "code",
      "execution_count": null,
      "metadata": {
        "id": "DpPoQxwfjNsC"
      },
      "outputs": [],
      "source": [
        "# Assuming location_df and combined_df are already loaded and prepared\n",
        "\n",
        "# Adjusting the join to correctly match 'GEO' with 'location' and use 'Date_key'\n",
        "combined_df = combined_df.merge(location_df, left_on=['GEO', 'Date_key'], right_on=['location', 'Date_key'], how='left')\n",
        "\n"
      ]
    },
    {
      "cell_type": "code",
      "execution_count": null,
      "metadata": {
        "id": "eY1W2JMcjXXo"
      },
      "outputs": [],
      "source": [
        "# Calculate GDP per capita\n",
        "#combined_df['GDP per capita'] = combined_df['VALUE'] / combined_df['population']\n",
        "\n",
        "# Adjust GDP per capita calculation considering GDP is in millions of dollars\n",
        "# Note: Assuming 'population' column is in number of individuals\n",
        "combined_df['GDP per capita'] = (combined_df['VALUE'] * 1e6) / combined_df['population']\n",
        "\n",
        "\n",
        "# Ensure the DataFrame is sorted by 'GEO', 'North American Industry Classification System (NAICS)', and 'REF_DATE' for accurate calculations\n",
        "combined_df.sort_values(by=['GEO', 'North American Industry Classification System (NAICS)', 'REF_DATE'], inplace=True)\n",
        "\n",
        "# Calculate the GDP growth rate, grouped by 'GEO' and 'Sector' (NAICS)\n",
        "combined_df['GDP growth rate'] = combined_df.groupby(['GEO', 'North American Industry Classification System (NAICS)'])['VALUE'].pct_change() * 100\n",
        "\n",
        "# For the first entry of each group, fill the NaN values with 0 (no growth rate for the first year available)\n",
        "combined_df['GDP growth rate'] = combined_df.groupby(['GEO', 'North American Industry Classification System (NAICS)'])['GDP growth rate'].transform(lambda x: x.fillna(0))\n"
      ]
    },
    {
      "cell_type": "markdown",
      "metadata": {
        "id": "qAEWde7LjaOK"
      },
      "source": [
        "Final tuning and export"
      ]
    },
    {
      "cell_type": "code",
      "execution_count": null,
      "metadata": {
        "colab": {
          "base_uri": "https://localhost:8080/",
          "height": 1000
        },
        "id": "JdQXZVcvjZt7",
        "outputId": "d3c44f25-c093-4ec4-fc63-e1634017faa0"
      },
      "outputs": [],
      "source": [
        "# Ensure 'Economy_key' is added as an integer enumeration from 1, if not already done\n",
        "combined_df.reset_index(drop=True, inplace=True)\n",
        "combined_df['Economy_key'] = combined_df.index + 1\n",
        "\n",
        "# Select and rename columns to match the final dataset requirements\n",
        "final_economy_df = combined_df[['Economy_key', 'Location_key', 'Date_key', 'year', 'North American Industry Classification System (NAICS)', 'VALUE', 'GDP per capita', 'GDP growth rate']]\n",
        "final_economy_df.columns = ['Economy_key', 'Location_key', 'Date_key', 'year', 'Sector', 'GDP', 'GDP per capita', 'GDP growth rate']\n",
        "\n",
        "final_economy_df.head(40)\n"
      ]
    },
    {
      "cell_type": "markdown",
      "metadata": {
        "id": "-uTNYy9pmikb"
      },
      "source": [
        "Export"
      ]
    },
    {
      "cell_type": "code",
      "execution_count": null,
      "metadata": {
        "id": "rm2NjUWQmiMq"
      },
      "outputs": [],
      "source": [
        "# Export to CSV\n",
        "final_economy_df.to_csv('economy.csv', index=False)"
      ]
    }
  ],
  "metadata": {
    "colab": {
      "provenance": []
    },
    "kernelspec": {
      "display_name": "Python 3",
      "name": "python3"
    },
    "language_info": {
      "codemirror_mode": {
        "name": "ipython",
        "version": 3
      },
      "file_extension": ".py",
      "mimetype": "text/x-python",
      "name": "python",
      "nbconvert_exporter": "python",
      "pygments_lexer": "ipython3",
      "version": "undefined.undefined.undefined"
    }
  },
  "nbformat": 4,
  "nbformat_minor": 0
}
